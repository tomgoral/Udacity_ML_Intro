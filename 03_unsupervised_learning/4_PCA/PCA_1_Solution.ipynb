{
 "cells": [
  {
   "cell_type": "markdown",
   "metadata": {},
   "source": [
    "### Your Turn\n",
    "\n",
    "In the previous video, you saw an example of working with some MNIST digits data.  A link to the dataset can be found here: http://yann.lecun.com/exdb/mnist/.\n",
    "\n",
    "First, let's import the necessary libraries.  Notice, there are also some imports from a file called `helper_functions`, which contains the functions used in the previous video."
   ]
  },
  {
   "cell_type": "code",
   "execution_count": 1,
   "metadata": {},
   "outputs": [],
   "source": [
    "import pandas as pd\n",
    "import numpy as np\n",
    "from sklearn.decomposition import PCA\n",
    "from sklearn.preprocessing import StandardScaler\n",
    "from sklearn.ensemble import RandomForestClassifier\n",
    "from sklearn.model_selection import train_test_split\n",
    "from sklearn.metrics import confusion_matrix, accuracy_score\n",
    "from helper_functions import show_images, show_images_by_digit, fit_random_forest_classifier2 \n",
    "from helper_functions import fit_random_forest_classifier, do_pca, plot_components\n",
    "import test_code as t\n",
    "\n",
    "import matplotlib.image as mpimg\n",
    "import matplotlib.pyplot as plt\n",
    "import seaborn as sns\n",
    "\n",
    "%matplotlib inline"
   ]
  },
  {
   "cell_type": "markdown",
   "metadata": {},
   "source": [
    "`1.` Use pandas to read in the dataset, which can be found at the following address **'./data/train.csv'**.  Take a look at info about the data using `head`, `tail`, `describe`, `info`, etc.  You can learn more about the data values from the article here: https://homepages.inf.ed.ac.uk/rbf/HIPR2/value.htm."
   ]
  },
  {
   "cell_type": "code",
   "execution_count": 2,
   "metadata": {},
   "outputs": [],
   "source": [
    "train = pd.read_csv('./data/train.csv')\n",
    "train.fillna(0, inplace=True)"
   ]
  },
  {
   "cell_type": "markdown",
   "metadata": {},
   "source": [
    "`2.` Create a vector called **y** that holds the **label** column of the dataset.  Store all other columns holding the pixel data of your images in **X**."
   ]
  },
  {
   "cell_type": "code",
   "execution_count": 3,
   "metadata": {},
   "outputs": [],
   "source": [
    "# save the labels to a Pandas series target\n",
    "y = train['label']\n",
    "\n",
    "# Drop the label feature\n",
    "X = train.drop(\"label\",axis=1)"
   ]
  },
  {
   "cell_type": "code",
   "execution_count": 5,
   "metadata": {},
   "outputs": [
    {
     "data": {
      "text/html": [
       "<div>\n",
       "<style scoped>\n",
       "    .dataframe tbody tr th:only-of-type {\n",
       "        vertical-align: middle;\n",
       "    }\n",
       "\n",
       "    .dataframe tbody tr th {\n",
       "        vertical-align: top;\n",
       "    }\n",
       "\n",
       "    .dataframe thead th {\n",
       "        text-align: right;\n",
       "    }\n",
       "</style>\n",
       "<table border=\"1\" class=\"dataframe\">\n",
       "  <thead>\n",
       "    <tr style=\"text-align: right;\">\n",
       "      <th></th>\n",
       "      <th>pixel0</th>\n",
       "      <th>pixel1</th>\n",
       "      <th>pixel2</th>\n",
       "      <th>pixel3</th>\n",
       "      <th>pixel4</th>\n",
       "      <th>pixel5</th>\n",
       "      <th>pixel6</th>\n",
       "      <th>pixel7</th>\n",
       "      <th>pixel8</th>\n",
       "      <th>pixel9</th>\n",
       "      <th>...</th>\n",
       "      <th>pixel774</th>\n",
       "      <th>pixel775</th>\n",
       "      <th>pixel776</th>\n",
       "      <th>pixel777</th>\n",
       "      <th>pixel778</th>\n",
       "      <th>pixel779</th>\n",
       "      <th>pixel780</th>\n",
       "      <th>pixel781</th>\n",
       "      <th>pixel782</th>\n",
       "      <th>pixel783</th>\n",
       "    </tr>\n",
       "  </thead>\n",
       "  <tbody>\n",
       "    <tr>\n",
       "      <th>0</th>\n",
       "      <td>0</td>\n",
       "      <td>0</td>\n",
       "      <td>0</td>\n",
       "      <td>0</td>\n",
       "      <td>0</td>\n",
       "      <td>0</td>\n",
       "      <td>0</td>\n",
       "      <td>0</td>\n",
       "      <td>0</td>\n",
       "      <td>0</td>\n",
       "      <td>...</td>\n",
       "      <td>0.0</td>\n",
       "      <td>0.0</td>\n",
       "      <td>0.0</td>\n",
       "      <td>0.0</td>\n",
       "      <td>0.0</td>\n",
       "      <td>0.0</td>\n",
       "      <td>0.0</td>\n",
       "      <td>0.0</td>\n",
       "      <td>0.0</td>\n",
       "      <td>0.0</td>\n",
       "    </tr>\n",
       "    <tr>\n",
       "      <th>1</th>\n",
       "      <td>0</td>\n",
       "      <td>0</td>\n",
       "      <td>0</td>\n",
       "      <td>0</td>\n",
       "      <td>0</td>\n",
       "      <td>0</td>\n",
       "      <td>0</td>\n",
       "      <td>0</td>\n",
       "      <td>0</td>\n",
       "      <td>0</td>\n",
       "      <td>...</td>\n",
       "      <td>0.0</td>\n",
       "      <td>0.0</td>\n",
       "      <td>0.0</td>\n",
       "      <td>0.0</td>\n",
       "      <td>0.0</td>\n",
       "      <td>0.0</td>\n",
       "      <td>0.0</td>\n",
       "      <td>0.0</td>\n",
       "      <td>0.0</td>\n",
       "      <td>0.0</td>\n",
       "    </tr>\n",
       "    <tr>\n",
       "      <th>2</th>\n",
       "      <td>0</td>\n",
       "      <td>0</td>\n",
       "      <td>0</td>\n",
       "      <td>0</td>\n",
       "      <td>0</td>\n",
       "      <td>0</td>\n",
       "      <td>0</td>\n",
       "      <td>0</td>\n",
       "      <td>0</td>\n",
       "      <td>0</td>\n",
       "      <td>...</td>\n",
       "      <td>0.0</td>\n",
       "      <td>0.0</td>\n",
       "      <td>0.0</td>\n",
       "      <td>0.0</td>\n",
       "      <td>0.0</td>\n",
       "      <td>0.0</td>\n",
       "      <td>0.0</td>\n",
       "      <td>0.0</td>\n",
       "      <td>0.0</td>\n",
       "      <td>0.0</td>\n",
       "    </tr>\n",
       "    <tr>\n",
       "      <th>3</th>\n",
       "      <td>0</td>\n",
       "      <td>0</td>\n",
       "      <td>0</td>\n",
       "      <td>0</td>\n",
       "      <td>0</td>\n",
       "      <td>0</td>\n",
       "      <td>0</td>\n",
       "      <td>0</td>\n",
       "      <td>0</td>\n",
       "      <td>0</td>\n",
       "      <td>...</td>\n",
       "      <td>0.0</td>\n",
       "      <td>0.0</td>\n",
       "      <td>0.0</td>\n",
       "      <td>0.0</td>\n",
       "      <td>0.0</td>\n",
       "      <td>0.0</td>\n",
       "      <td>0.0</td>\n",
       "      <td>0.0</td>\n",
       "      <td>0.0</td>\n",
       "      <td>0.0</td>\n",
       "    </tr>\n",
       "    <tr>\n",
       "      <th>4</th>\n",
       "      <td>0</td>\n",
       "      <td>0</td>\n",
       "      <td>0</td>\n",
       "      <td>0</td>\n",
       "      <td>0</td>\n",
       "      <td>0</td>\n",
       "      <td>0</td>\n",
       "      <td>0</td>\n",
       "      <td>0</td>\n",
       "      <td>0</td>\n",
       "      <td>...</td>\n",
       "      <td>0.0</td>\n",
       "      <td>0.0</td>\n",
       "      <td>0.0</td>\n",
       "      <td>0.0</td>\n",
       "      <td>0.0</td>\n",
       "      <td>0.0</td>\n",
       "      <td>0.0</td>\n",
       "      <td>0.0</td>\n",
       "      <td>0.0</td>\n",
       "      <td>0.0</td>\n",
       "    </tr>\n",
       "    <tr>\n",
       "      <th>...</th>\n",
       "      <td>...</td>\n",
       "      <td>...</td>\n",
       "      <td>...</td>\n",
       "      <td>...</td>\n",
       "      <td>...</td>\n",
       "      <td>...</td>\n",
       "      <td>...</td>\n",
       "      <td>...</td>\n",
       "      <td>...</td>\n",
       "      <td>...</td>\n",
       "      <td>...</td>\n",
       "      <td>...</td>\n",
       "      <td>...</td>\n",
       "      <td>...</td>\n",
       "      <td>...</td>\n",
       "      <td>...</td>\n",
       "      <td>...</td>\n",
       "      <td>...</td>\n",
       "      <td>...</td>\n",
       "      <td>...</td>\n",
       "      <td>...</td>\n",
       "    </tr>\n",
       "    <tr>\n",
       "      <th>6299</th>\n",
       "      <td>0</td>\n",
       "      <td>0</td>\n",
       "      <td>0</td>\n",
       "      <td>0</td>\n",
       "      <td>0</td>\n",
       "      <td>0</td>\n",
       "      <td>0</td>\n",
       "      <td>0</td>\n",
       "      <td>0</td>\n",
       "      <td>0</td>\n",
       "      <td>...</td>\n",
       "      <td>0.0</td>\n",
       "      <td>0.0</td>\n",
       "      <td>0.0</td>\n",
       "      <td>0.0</td>\n",
       "      <td>0.0</td>\n",
       "      <td>0.0</td>\n",
       "      <td>0.0</td>\n",
       "      <td>0.0</td>\n",
       "      <td>0.0</td>\n",
       "      <td>0.0</td>\n",
       "    </tr>\n",
       "    <tr>\n",
       "      <th>6300</th>\n",
       "      <td>0</td>\n",
       "      <td>0</td>\n",
       "      <td>0</td>\n",
       "      <td>0</td>\n",
       "      <td>0</td>\n",
       "      <td>0</td>\n",
       "      <td>0</td>\n",
       "      <td>0</td>\n",
       "      <td>0</td>\n",
       "      <td>0</td>\n",
       "      <td>...</td>\n",
       "      <td>0.0</td>\n",
       "      <td>0.0</td>\n",
       "      <td>0.0</td>\n",
       "      <td>0.0</td>\n",
       "      <td>0.0</td>\n",
       "      <td>0.0</td>\n",
       "      <td>0.0</td>\n",
       "      <td>0.0</td>\n",
       "      <td>0.0</td>\n",
       "      <td>0.0</td>\n",
       "    </tr>\n",
       "    <tr>\n",
       "      <th>6301</th>\n",
       "      <td>0</td>\n",
       "      <td>0</td>\n",
       "      <td>0</td>\n",
       "      <td>0</td>\n",
       "      <td>0</td>\n",
       "      <td>0</td>\n",
       "      <td>0</td>\n",
       "      <td>0</td>\n",
       "      <td>0</td>\n",
       "      <td>0</td>\n",
       "      <td>...</td>\n",
       "      <td>0.0</td>\n",
       "      <td>0.0</td>\n",
       "      <td>0.0</td>\n",
       "      <td>0.0</td>\n",
       "      <td>0.0</td>\n",
       "      <td>0.0</td>\n",
       "      <td>0.0</td>\n",
       "      <td>0.0</td>\n",
       "      <td>0.0</td>\n",
       "      <td>0.0</td>\n",
       "    </tr>\n",
       "    <tr>\n",
       "      <th>6302</th>\n",
       "      <td>0</td>\n",
       "      <td>0</td>\n",
       "      <td>0</td>\n",
       "      <td>0</td>\n",
       "      <td>0</td>\n",
       "      <td>0</td>\n",
       "      <td>0</td>\n",
       "      <td>0</td>\n",
       "      <td>0</td>\n",
       "      <td>0</td>\n",
       "      <td>...</td>\n",
       "      <td>0.0</td>\n",
       "      <td>0.0</td>\n",
       "      <td>0.0</td>\n",
       "      <td>0.0</td>\n",
       "      <td>0.0</td>\n",
       "      <td>0.0</td>\n",
       "      <td>0.0</td>\n",
       "      <td>0.0</td>\n",
       "      <td>0.0</td>\n",
       "      <td>0.0</td>\n",
       "    </tr>\n",
       "    <tr>\n",
       "      <th>6303</th>\n",
       "      <td>0</td>\n",
       "      <td>0</td>\n",
       "      <td>0</td>\n",
       "      <td>0</td>\n",
       "      <td>0</td>\n",
       "      <td>0</td>\n",
       "      <td>0</td>\n",
       "      <td>0</td>\n",
       "      <td>0</td>\n",
       "      <td>0</td>\n",
       "      <td>...</td>\n",
       "      <td>0.0</td>\n",
       "      <td>0.0</td>\n",
       "      <td>0.0</td>\n",
       "      <td>0.0</td>\n",
       "      <td>0.0</td>\n",
       "      <td>0.0</td>\n",
       "      <td>0.0</td>\n",
       "      <td>0.0</td>\n",
       "      <td>0.0</td>\n",
       "      <td>0.0</td>\n",
       "    </tr>\n",
       "  </tbody>\n",
       "</table>\n",
       "<p>6304 rows × 784 columns</p>\n",
       "</div>"
      ],
      "text/plain": [
       "      pixel0  pixel1  pixel2  pixel3  pixel4  pixel5  pixel6  pixel7  pixel8  \\\n",
       "0          0       0       0       0       0       0       0       0       0   \n",
       "1          0       0       0       0       0       0       0       0       0   \n",
       "2          0       0       0       0       0       0       0       0       0   \n",
       "3          0       0       0       0       0       0       0       0       0   \n",
       "4          0       0       0       0       0       0       0       0       0   \n",
       "...      ...     ...     ...     ...     ...     ...     ...     ...     ...   \n",
       "6299       0       0       0       0       0       0       0       0       0   \n",
       "6300       0       0       0       0       0       0       0       0       0   \n",
       "6301       0       0       0       0       0       0       0       0       0   \n",
       "6302       0       0       0       0       0       0       0       0       0   \n",
       "6303       0       0       0       0       0       0       0       0       0   \n",
       "\n",
       "      pixel9  ...  pixel774  pixel775  pixel776  pixel777  pixel778  pixel779  \\\n",
       "0          0  ...       0.0       0.0       0.0       0.0       0.0       0.0   \n",
       "1          0  ...       0.0       0.0       0.0       0.0       0.0       0.0   \n",
       "2          0  ...       0.0       0.0       0.0       0.0       0.0       0.0   \n",
       "3          0  ...       0.0       0.0       0.0       0.0       0.0       0.0   \n",
       "4          0  ...       0.0       0.0       0.0       0.0       0.0       0.0   \n",
       "...      ...  ...       ...       ...       ...       ...       ...       ...   \n",
       "6299       0  ...       0.0       0.0       0.0       0.0       0.0       0.0   \n",
       "6300       0  ...       0.0       0.0       0.0       0.0       0.0       0.0   \n",
       "6301       0  ...       0.0       0.0       0.0       0.0       0.0       0.0   \n",
       "6302       0  ...       0.0       0.0       0.0       0.0       0.0       0.0   \n",
       "6303       0  ...       0.0       0.0       0.0       0.0       0.0       0.0   \n",
       "\n",
       "      pixel780  pixel781  pixel782  pixel783  \n",
       "0          0.0       0.0       0.0       0.0  \n",
       "1          0.0       0.0       0.0       0.0  \n",
       "2          0.0       0.0       0.0       0.0  \n",
       "3          0.0       0.0       0.0       0.0  \n",
       "4          0.0       0.0       0.0       0.0  \n",
       "...        ...       ...       ...       ...  \n",
       "6299       0.0       0.0       0.0       0.0  \n",
       "6300       0.0       0.0       0.0       0.0  \n",
       "6301       0.0       0.0       0.0       0.0  \n",
       "6302       0.0       0.0       0.0       0.0  \n",
       "6303       0.0       0.0       0.0       0.0  \n",
       "\n",
       "[6304 rows x 784 columns]"
      ]
     },
     "execution_count": 5,
     "metadata": {},
     "output_type": "execute_result"
    }
   ],
   "source": [
    "X"
   ]
  },
  {
   "cell_type": "code",
   "execution_count": 4,
   "metadata": {},
   "outputs": [
    {
     "name": "stdout",
     "output_type": "stream",
     "text": [
      "That looks right!\n"
     ]
    }
   ],
   "source": [
    "#Check Your Solution \n",
    "t.question_two_check(y, X)"
   ]
  },
  {
   "cell_type": "markdown",
   "metadata": {},
   "source": [
    "`3.` Now use the `show_images_by_digit` function from the `helper_functions` module to take a look some of the `1`'s, `2`'s, `3`'s, or any other value you are interested in looking at.  Do they all look like what you would expect?"
   ]
  },
  {
   "cell_type": "code",
   "execution_count": 5,
   "metadata": {
    "scrolled": true
   },
   "outputs": [
    {
     "name": "stderr",
     "output_type": "stream",
     "text": [
      "C:\\Users\\tgoral\\github\\03_unsupervised\\4_PCA\\helper_functions.py:63: FutureWarning: Method .as_matrix will be removed in a future version. Use .values instead.\n",
      "  mat_data = X.iloc[indices[0][digit_num]].as_matrix().reshape(28,28)  #reshape images\n"
     ]
    },
    {
     "data": {
      "image/png": "[encoded data removed]",
      "text/plain": [
       "<Figure size 432x288 with 50 Axes>"
      ]
     },
     "metadata": {},
     "output_type": "display_data"
    }
   ],
   "source": [
    "show_images_by_digit(2) # Try looking at a few other digits"
   ]
  },
  {
   "cell_type": "markdown",
   "metadata": {},
   "source": [
    "`4.` Now that you have had a chance to look through some of the data, you can try some different algorithms to see what works well to use the X matrix to predict the response well.  If you would like to use the function I used in the video regarding random forests, you can run the code below, but you might also try any of the supervised techniques you learned in the previous course to see what works best.\n",
    "\n",
    "If you decide to put together your own classifier, remember the 4 steps to this process:\n",
    "\n",
    "**I.** Instantiate your model. (with all the hyperparameter values you care about)\n",
    "\n",
    "**II.** Fit your model. (to the training data)\n",
    "\n",
    "**III.** Predict using your fitted model.  (on the test data)\n",
    "\n",
    "**IV.** Score your model. (comparing the predictions to the actual values on the test data)\n",
    "\n",
    "You can also try a grid search to see if you can improve on your initial predictions."
   ]
  },
  {
   "cell_type": "code",
   "execution_count": 6,
   "metadata": {},
   "outputs": [
    {
     "name": "stdout",
     "output_type": "stream",
     "text": [
      "[[202   0   1   0   0   0   5   0   1   0]\n",
      " [  0 234   3   0   0   1   1   2   2   0]\n",
      " [  1   5 211   0   1   1   2   6   0   1]\n",
      " [  4   0   4 175   0   4   0   1   2   1]\n",
      " [  1   0   0   0 171   0   1   0   1   4]\n",
      " [  3   1   0   5   0 172   3   0   2   0]\n",
      " [  3   0   3   0   1   2 201   0   1   0]\n",
      " [  0   1   6   0   4   0   0 207   3   4]\n",
      " [  0   1   0   9   0   4   1   0 185   2]\n",
      " [  2   1   0   1  11   1   0   2   5 185]]\n",
      "0.9336857280153772\n"
     ]
    },
    {
     "data": {
      "text/plain": [
       "0.9336857280153772"
      ]
     },
     "execution_count": 6,
     "metadata": {},
     "output_type": "execute_result"
    }
   ],
   "source": [
    "fit_random_forest_classifier(X, y)"
   ]
  },
  {
   "cell_type": "markdown",
   "metadata": {},
   "source": [
    "`5.` Now the purpose of this lesson, to look at PCA.  In the video, I created a model just using two features.  Replicate the process below. You can use the same `do_pca` function that was created in the previous video.  Store your variables in **pca** and **X_pca**."
   ]
  },
  {
   "cell_type": "code",
   "execution_count": 7,
   "metadata": {},
   "outputs": [],
   "source": [
    "pca, X_pca = do_pca(2, X) #performs PCA to create two components"
   ]
  },
  {
   "cell_type": "markdown",
   "metadata": {},
   "source": [
    "`6.` The **X_pca** has moved the original more than 700 features down to only 2 features that capture the majority of the variability in the pixel values.  Use the space below to fit a model using these two features to predict the written value.  You can use the random forest model by running `fit_random_forest_classifier` the same way as in the video. How well does it perform?"
   ]
  },
  {
   "cell_type": "code",
   "execution_count": 8,
   "metadata": {},
   "outputs": [
    {
     "name": "stdout",
     "output_type": "stream",
     "text": [
      "[[117   0  37  10   8   8  23   0   6   0]\n",
      " [  0 208   0   4   1   7   4   7   8   4]\n",
      " [ 38   2  74  25  14  25  33   1  12   4]\n",
      " [ 11   2  32  20  23  30  27  13  21  12]\n",
      " [  6   5  21  20  46  17  16  11  11  25]\n",
      " [  8   8  33  23  16  22  27   6  35   8]\n",
      " [ 27   7  56  17  11  27  33   3  28   2]\n",
      " [  4   2   3   9  34   9   2  97   9  56]\n",
      " [  7   6  23  27  22  32  29   6  40  10]\n",
      " [  2  11   3  17  33  10   5  57   7  63]]\n",
      "0.3459875060067275\n"
     ]
    },
    {
     "data": {
      "text/plain": [
       "0.3459875060067275"
      ]
     },
     "execution_count": 8,
     "metadata": {},
     "output_type": "execute_result"
    }
   ],
   "source": [
    "fit_random_forest_classifier(X_pca, y)"
   ]
  },
  {
   "cell_type": "markdown",
   "metadata": {},
   "source": [
    "`7.` Now you can look at the separation of the values using the `plot_components` function.  If you plot all of the points (more than 40,000), you will likely not be able to see much of what is happening.  I recommend plotting just a subset of the data.  Which value(s) have some separation that are being predicted better than others based on these two components?"
   ]
  },
  {
   "cell_type": "code",
   "execution_count": 9,
   "metadata": {},
   "outputs": [
    {
     "data": {
      "image/png": "[encoded data removed]",
      "text/plain": [
       "<Figure size 720x432 with 1 Axes>"
      ]
     },
     "metadata": {},
     "output_type": "display_data"
    }
   ],
   "source": [
    "plot_components(X_pca[:100], y[:100])"
   ]
  },
  {
   "cell_type": "markdown",
   "metadata": {},
   "source": [
    "`8.` See if you can find a reduced number of features that provides better separation to make predictions.  Say you want to get separation that allows for accuracy of more than 90%, how many principal components are needed to obtain this level of accuracy?  Were you able to substantially reduce the number of features needed in your final model?"
   ]
  },
  {
   "cell_type": "code",
   "execution_count": 42,
   "metadata": {},
   "outputs": [
    {
     "name": "stdout",
     "output_type": "stream",
     "text": [
      "[[ 820    0  179   51   33   50  140    5   47    8]\n",
      " [   1 1294    3   14   30   33   20   50   35   40]\n",
      " [ 224    5  316  205  129  111  200   54  116   54]\n",
      " [  79   22  199  223  146  189  172  146  169  126]\n",
      " [  52   58  128  164  223  113  120  163  131  206]\n",
      " [  63   24  133  127  139  227  192   43  201   56]\n",
      " [ 190   28  228  157  104  196  284   32  145   33]\n",
      " [   9   79   66  113  175   67   35  522   81  333]\n",
      " [  51   54  129  159  138  210  155   84  232  122]\n",
      " [  16  113   62  103  192   59   55  310   74  364]]\n",
      "0.325036075036\n",
      "[[1002    0   37   12   22   51  151    0   57    1]\n",
      " [   0 1420    6   14    5    5   25    2   40    3]\n",
      " [  93    4  671  307   29   65  184    0   58    3]\n",
      " [  22   24  333  573   50   85  179   33  155   17]\n",
      " [  44   12    8   22  752   79   12   97   53  279]\n",
      " [  58    4   88  104  174  384  151   21  178   43]\n",
      " [ 210   34  121   94   17   76  739    2  104    0]\n",
      " [   4   23    0   27  194   30    7  813   20  362]\n",
      " [  58   39   61  192  141  266  215   18  320   24]\n",
      " [  12    3    1   19  321   31    6  293   17  645]]\n",
      "0.528066378066\n",
      "[[1157    0   48    3   25   31   17    2   49    1]\n",
      " [   1 1444    9    3    2    2   12    6   37    4]\n",
      " [  92    7  945   87   34   30  171    4   42    2]\n",
      " [  18   11   95  986    9  123   11   20  185   13]\n",
      " [  22   10   17    1  894   38   21   81    9  265]\n",
      " [  39    3   59  142   68  540   15   35  266   38]\n",
      " [  33    8  121    3   19   11 1183    0   19    0]\n",
      " [   4   26    6   12  120   32    2  891   51  336]\n",
      " [  81   42   31  176   32  272   12   29  632   27]\n",
      " [  14    3    3   13  282   30    2  257   32  712]]\n",
      "0.677056277056\n",
      "[[1182    0   38    2   11   20   21    3   56    0]\n",
      " [   1 1463   14    7    0    5    4    6   17    3]\n",
      " [  60    3 1093   87   22   22   84    7   34    2]\n",
      " [  17   10   96 1040   11  124    6   26  135    6]\n",
      " [  13    9   15    3  951    7   17   50   10  283]\n",
      " [  41    4   51  150   25  590   10   63  254   17]\n",
      " [  37    4   83    1   17    8 1224    0   23    0]\n",
      " [   4   26    9   19   58   24    3 1193   23  121]\n",
      " [  70   22   22  116   27  228   13   18  788   30]\n",
      " [  11    3    1   10  276   28    4  121   25  869]]\n",
      "0.749855699856\n",
      "[[1218    0    5    4   10   38   25    0   32    1]\n",
      " [   1 1483    9    8    0    2    5    2    6    4]\n",
      " [  14    1 1247   43   24    3   21    9   52    0]\n",
      " [   7   12   51 1101   10   89    9   32  153    7]\n",
      " [   7   11   20    0 1001    5   16   32   14  252]\n",
      " [  43    1    5  110   23  907   25   16   66    9]\n",
      " [  37    4   23    2   16   10 1292    0   13    0]\n",
      " [   2   13   20    6   50    3    0 1265   21  100]\n",
      " [  20   12   28  111   36   61   14   17 1014   21]\n",
      " [   9    5    2   15  257   15    2   96   31  916]]\n",
      "0.825685425685\n",
      "[[1220    0    5    4   12   35   24    0   33    0]\n",
      " [   0 1489    8    6    0    1    5    2    5    4]\n",
      " [  16    4 1253   38   22    3   24   10   44    0]\n",
      " [  12   14   51 1164   14   66    6   25  112    7]\n",
      " [   2   10   18    3 1024    7   16   29   12  237]\n",
      " [  39    2    6  113   26  917   26   17   49   10]\n",
      " [  44    4   23    2   14   14 1288    0    8    0]\n",
      " [   1   11   15    6   41    4    0 1284   24   94]\n",
      " [  19   15   26  101   29   51   15   14 1043   21]\n",
      " [   9    4    3   14  245   15    2   89   35  932]]\n",
      "0.837950937951\n",
      "[[1268    0    5    5    2   23   20    2    8    0]\n",
      " [   1 1493    8    7    0    2    5    2    0    2]\n",
      " [  17    2 1271   35   18    7   20    9   34    1]\n",
      " [  10   11   38 1221    8   51    4   21   95   12]\n",
      " [   3    7   18    6 1064    8   15   17    9  211]\n",
      " [  36    2   10   76   22  966   22    3   54   14]\n",
      " [  38    3   16    2   12   16 1303    0    7    0]\n",
      " [   1   13   15    6   31    2    0 1321   11   80]\n",
      " [  12   14   19   65   30   57    9    4 1102   22]\n",
      " [   8    4    5   18  238   10    2   87   33  943]]\n",
      "0.862337662338\n",
      "[[1265    0    6    1    1   21   25    2   12    0]\n",
      " [   1 1487    8    6    1    3    5    1    1    7]\n",
      " [  14    3 1282   37   20    2   11   13   32    0]\n",
      " [   9   10   39 1239    7   44    5   23   83   12]\n",
      " [   4    9   14    5 1078    7   14   13   13  201]\n",
      " [  25    2    7   62   18 1016   20    2   40   13]\n",
      " [  41    4    8    0    7    9 1320    0    8    0]\n",
      " [   0   13   19   10   25    1    0 1325   10   77]\n",
      " [  10   10   15   42   34   50   10    7 1139   17]\n",
      " [  10    4    3   21  212    7    2   75   27  987]]\n",
      "0.875757575758\n",
      "[[1267    1    5    2    2   25   20    1    9    1]\n",
      " [   0 1490    8    3    1    3    6    2    2    5]\n",
      " [  16    2 1296   29   12    2   11   14   31    1]\n",
      " [   8    9   36 1265    2   43    3   22   69   14]\n",
      " [   4    7   11    2 1161    4   12   10    8  139]\n",
      " [  25    1    4   58   16 1019   25    3   38   16]\n",
      " [  31    4    8    0    9   12 1325    0    8    0]\n",
      " [   1   12   17   10   11    2    0 1338   13   76]\n",
      " [  11   13   17   31   19   42    9    6 1169   17]\n",
      " [  11    4    4   21  106   11    2   62   24 1103]]\n",
      "0.897041847042\n",
      "[[1282    0    5    0    2   17   18    0    7    2]\n",
      " [   0 1491    7    4    1    2    6    1    2    6]\n",
      " [  16    1 1299   29   12    3    8   12   33    1]\n",
      " [   6    8   31 1282    2   39    4   23   63   13]\n",
      " [   2    7   13    2 1177    2   12   12    8  123]\n",
      " [  18    1    6   62   12 1024   19    3   42   18]\n",
      " [  22    4    6    1    9   14 1334    0    7    0]\n",
      " [   0   13   19    9   13    2    0 1336   15   73]\n",
      " [   6   11   11   32   20   46    8    5 1179   16]\n",
      " [  12    2    3   23   92    5    2   66   25 1118]]\n",
      "0.903463203463\n",
      "With only 11 components, a random forest acheived an accuracy of 0.9034632034632034.\n"
     ]
    }
   ],
   "source": [
    "for comp in range(2, 100):\n",
    "    pca, X_pca = do_pca(comp, X)\n",
    "    acc = fit_random_forest_classifier(X_pca, y)\n",
    "    if acc > .90:\n",
    "        print(\"With only {} components, a random forest acheived an accuracy of {}.\".format(comp, acc))\n",
    "        break"
   ]
  },
  {
   "cell_type": "markdown",
   "metadata": {},
   "source": [
    "`9.` It is possible that extra features in the dataset even lead to overfitting or the [curse of dimensionality](https://stats.stackexchange.com/questions/65379/machine-learning-curse-of-dimensionality-explained).  Do you have evidence of this happening for this dataset?  Can you support your evidence with a visual or table?  To avoid printing out all of the metric results, I created another function called `fit_random_forest_classifier2`.  I ran through a significant number of components to create the visual for the solution, but I strongly recommend you look in the range below 100 principal components!"
   ]
  },
  {
   "cell_type": "code",
   "execution_count": 46,
   "metadata": {
    "collapsed": true
   },
   "outputs": [],
   "source": [
    "# I would highly recommend not running the below code, as it had to run overnight to complete.\n",
    "# Instead, you can run a smaller number of components that still allows you to see enough.\n",
    "\n",
    "\n",
    "#accs = []\n",
    "#comps = []\n",
    "#for comp in range(2, 700):\n",
    "#    comps.append(comp)\n",
    "#    pca, X_pca = do_pca(comp, X)\n",
    "#    acc = fit_random_forest_classifier2(X_pca, y)\n",
    "#    accs.append(acc)"
   ]
  },
  {
   "cell_type": "code",
   "execution_count": 48,
   "metadata": {},
   "outputs": [
    {
     "data": {
      "image/png": "[encoded data removed]",
      "text/plain": [
       "<matplotlib.figure.Figure at 0x1394e07f0>"
      ]
     },
     "metadata": {},
     "output_type": "display_data"
    }
   ],
   "source": [
    "plt.plot(comps, accs, 'bo');\n",
    "plt.xlabel('Number of Components');\n",
    "plt.ylabel('Accuracy');\n",
    "plt.title('Number of Components by Accuracy');"
   ]
  },
  {
   "cell_type": "code",
   "execution_count": 58,
   "metadata": {},
   "outputs": [
    {
     "data": {
      "text/plain": [
       "(0.94126984126984126, 61)"
      ]
     },
     "execution_count": 58,
     "metadata": {},
     "output_type": "execute_result"
    }
   ],
   "source": [
    "# The max accuracy and corresponding number of components\n",
    "np.max(accs), comps[np.where(accs == np.max(accs))[0][0]]"
   ]
  },
  {
   "cell_type": "markdown",
   "metadata": {},
   "source": [
    "**Here you can see that the accuracy quickly levels off.  The maximum accuracy is actually acheived at 61 principal components.  Given the slight negative trend also indicates that the final components are mostly containing noise.  The 61 components here contain the information needed to be able to determine the images nearly to the same ability as using the entire image.  Next, let's take a closer look at exactly what other information we get from PCA, and how we can interpret it.** "
   ]
  },
  {
   "cell_type": "code",
   "execution_count": null,
   "metadata": {
    "collapsed": true
   },
   "outputs": [],
   "source": []
  }
 ],
 "metadata": {
  "kernelspec": {
   "display_name": "Python 3",
   "language": "python",
   "name": "python3"
  },
  "language_info": {
   "codemirror_mode": {
    "name": "ipython",
    "version": 3
   },
   "file_extension": ".py",
   "mimetype": "text/x-python",
   "name": "python",
   "nbconvert_exporter": "python",
   "pygments_lexer": "ipython3",
   "version": "3.7.3"
  },
  "toc": {
   "base_numbering": 1,
   "nav_menu": {},
   "number_sections": false,
   "sideBar": true,
   "skip_h1_title": false,
   "title_cell": "Table of Contents",
   "title_sidebar": "Contents",
   "toc_cell": false,
   "toc_position": {},
   "toc_section_display": true,
   "toc_window_display": false
  }
 },
 "nbformat": 4,
 "nbformat_minor": 2
}
